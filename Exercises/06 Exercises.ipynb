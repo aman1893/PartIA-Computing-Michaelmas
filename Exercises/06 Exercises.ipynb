{
 "cells": [
  {
   "cell_type": "markdown",
   "metadata": {
    "deletable": false,
    "editable": false,
    "nbgrader": {
     "grade": false,
     "grade_id": "cell-7b3313f25bceb7a2",
     "locked": true,
     "schema_version": 3,
     "solution": false
    }
   },
   "source": [
    "## Exercise 06.1 (selecting and passing data structures)\n",
    "\n",
    "The task in Exercise 04 for computing the area of a triangle involved a function with six arguments ($x$ and $y$ components of each vertex). With six arguments, the likelihood of a user passing arguments in the wrong order is high. \n",
    "\n",
    "Use an appropriate data structure, e.g. a `list`, `tuple`, `dict`, etc, to develop a new version of the function with an improved interface (the interface is the arguments that are passed to the function) with fewer arguments. Add appropriate checks inside your function on the input data."
   ]
  },
  {
   "cell_type": "code",
   "execution_count": 9,
   "metadata": {
    "nbgrader": {
     "grade": false,
     "grade_id": "cell-50c4566d7bcbffaf",
     "locked": false,
     "schema_version": 3,
     "solution": true
    },
    "tags": [
     "otter_answer_cell"
    ]
   },
   "outputs": [],
   "source": [
    "def area_triangle(vertices):\n",
    "    ## As each co-ord is fixed, using tuples to store co-ordinates,\n",
    "    ## passing vertices as list of tuple\n",
    "    if not (isinstance(vertices, list) and len(vertices) == 3):\n",
    "        raise ValueError(\"vertices must be a list of three points\")\n",
    "    \n",
    "    for v in vertices:\n",
    "        if not (isinstance(v, tuple) and len(v) == 2):\n",
    "            raise ValueError(\"Each vertex must be a tuple of length 2\")\n",
    "    \n",
    "    x0, y0 = vertices[0]\n",
    "    x1, y1 = vertices[1]\n",
    "    x2, y2 = vertices[2]\n",
    "    \n",
    "    return abs((x0*(y1 - y2) + x1*(y2 - y0) + x2*(y0 - y1)) / 2)"
   ]
  },
  {
   "cell_type": "code",
   "execution_count": 11,
   "metadata": {},
   "outputs": [],
   "source": [
    "## tests\n",
    "\n",
    "tri = [(0,0), (0,2), (3,0)]\n",
    "assert area_triangle(tri) == 3.0\n"
   ]
  },
  {
   "cell_type": "markdown",
   "metadata": {
    "deletable": false,
    "editable": false,
    "nbgrader": {
     "grade": false,
     "grade_id": "cell-5065052af9989fdf",
     "locked": true,
     "schema_version": 3,
     "solution": false
    }
   },
   "source": [
    "## Exercise 06.2 (selecting data structures)\n",
    "\n",
    "For a simple (non-intersecting) polygon with $n$ vertices, $(x_0, y_0)$, $(x_1, y_1)$, . . , $(x_{n-1}, y_{n-1})$, the area $A$ is given by\n",
    "$$\n",
    "A = \\left| \\frac{1}{2} \\sum_{i=0}^{n-1} \\left(x_{i} y _{i+1} - x_{i+1} y_{i} \\right) \\right|\n",
    "$$\n",
    "and where $(x_n, y_n) = (x_0, y_0)$. The vertices should be ordered as you move around the polygon.\n",
    "\n",
    "Write a function that, given only the vertex coordinates, computes the area of a simple polygon. Test your function for some simple shapes. Pay careful attention to the range of any loops. **Test for polygons without a vertex at the origin.**"
   ]
  },
  {
   "cell_type": "code",
   "execution_count": 12,
   "metadata": {
    "nbgrader": {
     "grade": false,
     "grade_id": "cell-4b5a619405787746",
     "locked": false,
     "schema_version": 3,
     "solution": true
    },
    "tags": [
     "otter_answer_cell"
    ]
   },
   "outputs": [],
   "source": [
    "\n",
    "def area_polygon(vertices):\n",
    "    \"\"\"\n",
    "    Compute area of a simple polygon using list of vertices [(x0,y0), (x1,y1), ...]\n",
    "    \"\"\"\n",
    "    n = len(vertices)\n",
    "    if n < 3:\n",
    "        raise ValueError(\"Polygon must have at least 3 vertices\")\n",
    "    \n",
    "    A = 0\n",
    "    for i in range(n):\n",
    "        x_i, y_i = vertices[i]\n",
    "        if i == n-1:\n",
    "            i_next = 0\n",
    "        else:\n",
    "            i_next = i + 1\n",
    "        x_next, y_next = vertices[i_next]\n",
    "        A += (x_i * y_next - x_next * y_i)\n",
    "    \n",
    "    return abs(A) / 2"
   ]
  },
  {
   "cell_type": "code",
   "execution_count": 13,
   "metadata": {},
   "outputs": [],
   "source": [
    "square = [(1,1), (1,3), (4,3), (4,1)]\n",
    "assert area_polygon(square) == 6.0  # 3x2 rectangle"
   ]
  },
  {
   "cell_type": "markdown",
   "metadata": {
    "deletable": false,
    "editable": false,
    "nbgrader": {
     "grade": false,
     "grade_id": "cell-ced99a38c7bbe7a0",
     "locked": true,
     "schema_version": 3,
     "solution": false
    }
   },
   "source": [
    "## Exercise 06.3 (indexing)\n",
    "\n",
    "Write a function that uses list indexing to add two vectors of arbitrary length, and returns the new vector. Include a check that the vector sizes match. Print a warning message if there is a size mismatch. The more error information you provide, the easier it would be for someone using your function to debug their code.\n",
    "\n",
    "Add some tests of your code.\n",
    "\n",
    "#### Hint: You can create a list of zeros of length `n` by\n",
    "\n",
    "    z = [0]*n"
   ]
  },
  {
   "cell_type": "code",
   "execution_count": 14,
   "metadata": {
    "nbgrader": {
     "grade": false,
     "grade_id": "cell-47daca03f7a96b62",
     "locked": false,
     "schema_version": 3,
     "solution": true
    },
    "tags": [
     "otter_answer_cell"
    ]
   },
   "outputs": [],
   "source": [
    "def sum_vector(x, y):\n",
    "    \"\"\"Return sum of two vectors\"\"\"\n",
    "    if len(x) != len(y):\n",
    "        print(f\"Vectors length mismatch: len(x)={len(x)}, len(y)={len(y)}\")\n",
    "        return None\n",
    "    sum_v = [0]*len(x)\n",
    "    for i in range(len(x)):\n",
    "        sum_v[i] = x[i] + y[i]\n",
    "    return sum_v"
   ]
  },
  {
   "cell_type": "code",
   "execution_count": 15,
   "metadata": {
    "deletable": false,
    "editable": false,
    "nbgrader": {
     "grade": true,
     "grade_id": "cell-95f5819810d2b2c7",
     "locked": true,
     "points": 0,
     "schema_version": 3,
     "solution": false
    }
   },
   "outputs": [],
   "source": [
    "# tests ##\n",
    "a = [0, 4.3, -5, 7]\n",
    "b = [-2, 7, -15, 1]\n",
    "c = sum_vector(a, b)\n",
    "assert c == [-2, 11.3, -20, 8]"
   ]
  },
  {
   "cell_type": "markdown",
   "metadata": {
    "deletable": false,
    "editable": false
   },
   "source": [
    "### Optional (advanced) \n",
    "\n",
    "Try writing a one-line version that performs the `sum_vector` operation using list comprehension and the built-in function [`zip`](https://docs.python.org/3/library/functions.html#zip)."
   ]
  },
  {
   "cell_type": "code",
   "execution_count": 17,
   "metadata": {
    "nbgrader": {
     "grade": true,
     "grade_id": "cell-c182b3f0d8952692",
     "locked": false,
     "points": 0,
     "schema_version": 3,
     "solution": true
    },
    "tags": [
     "otter_answer_cell"
    ]
   },
   "outputs": [],
   "source": [
    "def sum_vector_zip(x, y):\n",
    "    if len(x) != len(y):\n",
    "        print(f\"Vectors length mismatch: len(x)={len(x)}, len(y)={len(y)}\")\n",
    "        return None\n",
    "    return [xi + yi for xi, yi in zip(x, y)]"
   ]
  },
  {
   "cell_type": "code",
   "execution_count": 18,
   "metadata": {},
   "outputs": [],
   "source": [
    "# tests ##\n",
    "a = [0, 4.3, -5, 7]\n",
    "b = [-2, 7, -15, 1]\n",
    "c = sum_vector_zip(a, b)\n",
    "assert c == [-2, 11.3, -20, 8]"
   ]
  },
  {
   "cell_type": "markdown",
   "metadata": {
    "deletable": false,
    "editable": false
   },
   "source": [
    "## Exercise 06.4 (dictionaries)\n",
    "\n",
    "Create a dictionary that maps college names (the key) to college abbreviations for at least 5 colleges\n",
    "(you can find abbreviations at https://en.wikipedia.org/wiki/Colleges_of_the_University_of_Cambridge#Colleges).\n",
    "From the dictionary, produce and print\n",
    "\n",
    "1. A Python dictionary from college abbreviation to name; and\n",
    "1. A Python list of college abbreviations sorted into alphabetical order.\n",
    "\n",
    "*Optional extension:* Create a dictionary that maps college names (the key) to dictionaries of:\n",
    "\n",
    "- College abbreviation\n",
    "- Year of foundation \n",
    "- Total number students\n",
    " \n",
    "for at least 5 colleges. Take the data from https://en.wikipedia.org/wiki/Colleges_of_the_University_of_Cambridge#Colleges. Using this dictionary, \n",
    "\n",
    "1. Find the college with the greatest number of students and print the abbreviation; and \n",
    "2. Find the oldest college, and print the number of students and the abbreviation for this college."
   ]
  },
  {
   "cell_type": "code",
   "execution_count": 23,
   "metadata": {
    "nbgrader": {
     "grade": false,
     "grade_id": "cell-bc271dc3885e19c5",
     "locked": false,
     "schema_version": 3,
     "solution": true
    },
    "tags": [
     "otter_answer_cell"
    ]
   },
   "outputs": [
    {
     "name": "stdout",
     "output_type": "stream",
     "text": [
      "{'CTH': \"St Catharine's\", 'T': 'Trinity College', 'K': \"King's College\", 'JN': \"St John's College\", 'CHR': \"Christ's College\", 'Q': \"Queens' College\"}\n",
      "['CHR', 'CTH', 'JN', 'K', 'Q', 'T']\n"
     ]
    }
   ],
   "source": [
    "# College name -> abbreviation\n",
    "colleges = {\n",
    "    \"St Catharine's\": \"CTH\",\n",
    "    \"Trinity College\": \"T\",\n",
    "    \"King's College\": \"K\",\n",
    "    \"St John's College\": \"JN\",\n",
    "    \"Christ's College\": \"CHR\",\n",
    "    \"Queens' College\": \"Q\"\n",
    "}\n",
    "\n",
    "# Abbreviation -> name\n",
    "abbr_to_name = {}\n",
    "for name, abbr in colleges.items():\n",
    "    abbr_to_name[abbr] = name    \n",
    "\n",
    "# Sorted list of abbreviations\n",
    "sorted_abbr = sorted(colleges.values())\n",
    "\n",
    "print(abbr_to_name)\n",
    "print(sorted_abbr)"
   ]
  },
  {
   "cell_type": "markdown",
   "metadata": {
    "deletable": false,
    "editable": false,
    "nbgrader": {
     "grade": false,
     "grade_id": "cell-45d2551a524193b0",
     "locked": true,
     "schema_version": 3,
     "solution": false
    }
   },
   "source": [
    "#### Optional extension"
   ]
  },
  {
   "cell_type": "code",
   "execution_count": 28,
   "metadata": {
    "nbgrader": {
     "grade": false,
     "grade_id": "cell-7040c4053c72ce09",
     "locked": false,
     "schema_version": 3,
     "solution": true
    },
    "tags": [
     "otter_answer_cell"
    ]
   },
   "outputs": [
    {
     "name": "stdout",
     "output_type": "stream",
     "text": [
      "Abbr of college with max students is Q\n",
      "Abbr of oldest college is K\n"
     ]
    }
   ],
   "source": [
    "college_info = {\n",
    "    \"St Catharine's\": {\"abbr\":\"CTH\", \"year\":1473, \"students\":831},\n",
    "    \"Trinity College\": {\"abbr\":\"T\", \"year\":1546, \"students\":1019},\n",
    "    \"King's College\": {\"abbr\":\"K\", \"year\":1441, \"students\":825},\n",
    "    \"St John's College\": {\"abbr\":\"JN\", \"year\":1511, \"students\":956},\n",
    "    \"Christ's College\": {\"abbr\":\"CHR\", \"year\":1505, \"students\":727},\n",
    "    \"Queens' College\": {\"abbr\":\"Q\", \"year\":1448, \"students\":1068}\n",
    "}\n",
    "\n",
    "# College with max students\n",
    "max_student_count = -1\n",
    "abbr_max_student_college = None\n",
    "for college in college_info.items():\n",
    "    if college[1][\"students\"] > max_student_count:\n",
    "        max_student_count =  college[1][\"students\"]\n",
    "        abbr_max_student_college = college[1][\"abbr\"]\n",
    "print(f\"Abbr of college with max students is {abbr_max_student_college}\")\n",
    "            \n",
    "# Oldest College\n",
    "min_year_count = 3000\n",
    "abbr_oldest_college = None\n",
    "for college in college_info.items():\n",
    "    if college[1][\"year\"] < min_year_count:\n",
    "        min_year_count =  college[1][\"year\"]\n",
    "        abbr_oldest_college = college[1][\"abbr\"]\n",
    "print(f\"Abbr of oldest college is {abbr_oldest_college}\")\n"
   ]
  },
  {
   "cell_type": "code",
   "execution_count": null,
   "metadata": {},
   "outputs": [],
   "source": []
  }
 ],
 "metadata": {
  "celltoolbar": "Create Assignment",
  "kernelspec": {
   "display_name": "Python 3 (ipykernel)",
   "language": "python",
   "name": "python3"
  },
  "language_info": {
   "codemirror_mode": {
    "name": "ipython",
    "version": 3
   },
   "file_extension": ".py",
   "mimetype": "text/x-python",
   "name": "python",
   "nbconvert_exporter": "python",
   "pygments_lexer": "ipython3",
   "version": "3.14.0"
  },
  "otter": {
   "OK_FORMAT": true,
   "assignment_name": "Exercises 6",
   "tests": {}
  }
 },
 "nbformat": 4,
 "nbformat_minor": 4
}
