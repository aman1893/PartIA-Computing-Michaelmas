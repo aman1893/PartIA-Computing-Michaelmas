{
 "cells": [
  {
   "cell_type": "markdown",
   "metadata": {
    "deletable": false,
    "editable": false
   },
   "source": [
    "## Exercise 09.1 (checking data validity)\n",
    "\n",
    "The Fibonacci series is valid only for $n \\ge 0$. Add to the Fibonacci function in this notebook a check that raises an exception if $n < 0$. Try some invalid data cases to check that an exception is raised.\n",
    "\n",
    "*Optional:* Use `pytest` to test that an exception *is* raised for some $n < 0$ cases."
   ]
  },
  {
   "cell_type": "code",
   "execution_count": 3,
   "metadata": {
    "nbgrader": {
     "grade": false,
     "grade_id": "cell-982c3611466532a2",
     "locked": false,
     "schema_version": 3,
     "solution": true
    },
    "tags": [
     "otter_answer_cell"
    ]
   },
   "outputs": [],
   "source": [
    "def f(n): \n",
    "    \"Compute the nth Fibonacci number using recursion\"\n",
    "    if n < 0:\n",
    "        raise ValueError(\"The entered number should be greater than or equal to 0\")\n",
    "    if n <= 1:\n",
    "        return n\n",
    "    return f(n - 1) + f(n-2)"
   ]
  },
  {
   "cell_type": "code",
   "execution_count": 4,
   "metadata": {
    "deletable": false,
    "editable": false,
    "nbgrader": {
     "grade": true,
     "grade_id": "cell-9b97ea3e85d77f4a",
     "locked": true,
     "points": 0,
     "schema_version": 3,
     "solution": false
    }
   },
   "outputs": [],
   "source": [
    "## tests ##\n",
    "\n",
    "# Perform some tests    \n",
    "assert f(0) == 0\n",
    "assert f(1) == 1\n",
    "assert f(2) == 1\n",
    "assert f(3) == 2\n",
    "assert f(10) == 55\n",
    "assert f(15) == 610\n",
    "\n",
    "# Check that ValueError is raised for n < 0\n",
    "import pytest\n",
    "with pytest.raises(ValueError):\n",
    "    f(-1)\n",
    "with pytest.raises(ValueError):\n",
    "    f(-2)"
   ]
  },
  {
   "cell_type": "markdown",
   "metadata": {
    "deletable": false,
    "editable": false,
    "nbgrader": {
     "grade": false,
     "grade_id": "cell-69c78c0ffc19db36",
     "locked": true,
     "schema_version": 3,
     "solution": false
    }
   },
   "source": [
    "## Exercise 09.2 (raising exceptions)\n",
    "\n",
    "Modify your program from the bisection exercise in Activity 04 to raise an error if the maximum number of iterations is exceeded. Reduce the maximum allowed iterations to test that an exception is raised.\n",
    "\n",
    "Add any other checks on the input data that you think are appropriate."
   ]
  },
  {
   "cell_type": "code",
   "execution_count": 5,
   "metadata": {
    "nbgrader": {
     "grade": false,
     "grade_id": "cell-ca2c3ee62ad3b956",
     "locked": false,
     "schema_version": 3,
     "solution": true
    },
    "tags": [
     "otter_answer_cell"
    ]
   },
   "outputs": [],
   "source": [
    "def my_f(x):\n",
    "    \"\"\"Evaluate polynomial function\"\"\"\n",
    "    return x**5 / 10 + x**3 - 10 * x**2 + 4 * x + 7\n",
    "\n",
    "def compute_root(f, x0, x1, tol, max_it):\n",
    "    \"\"\"Compute roots of a function using bisection\"\"\"\n",
    "\n",
    "    if x0 >= x1:\n",
    "        raise ValueError(\"x0 must be less than x1.\")\n",
    "\n",
    "    if tol <= 0:\n",
    "        raise ValueError(\"Tolerance must be positive.\")\n",
    "\n",
    "    if max_it <= 0:\n",
    "        raise ValueError(\"Maximum iterations must be a positive integer.\")\n",
    "\n",
    "    f0 = f(x0)\n",
    "    f1 = f(x1)\n",
    "    if f0 * f1 > 0:\n",
    "        raise ValueError(\"f(x0) and f(x1) must have opposite signs for bisection method.\")\n",
    "\n",
    "    for it in range(max_it):\n",
    "        x_mid = (x0 + x1) / 2\n",
    "        f_mid = f(x_mid)\n",
    "\n",
    "        if abs(f_mid) < tol:\n",
    "            return x_mid, f_mid, it\n",
    "\n",
    "        if f(x0) * f_mid < 0: \n",
    "            x1 = x_mid \n",
    "        else: \n",
    "            x0 = x_mid\n",
    "\n",
    "        # Raise if max iterations reached\n",
    "        if it == max_it - 1:\n",
    "            raise RuntimeError(f\"Max iterations of {max_it} reached without convergence.\")\n",
    "\n",
    "    return x_mid, f_mid, it\n"
   ]
  },
  {
   "cell_type": "code",
   "execution_count": 6,
   "metadata": {
    "deletable": false,
    "editable": false,
    "nbgrader": {
     "grade": true,
     "grade_id": "cell-f6cf91ed5dd1736b",
     "locked": true,
     "points": 0,
     "schema_version": 3,
     "solution": false
    }
   },
   "outputs": [],
   "source": [
    "## tests ##\n",
    "\n",
    "# Test with max_it = 30\n",
    "x, f, num_it = compute_root(my_f, x0=0, x1=2, tol=1.0e-6, max_it=30)\n",
    "\n",
    "# Test with max_it = 20\n",
    "with pytest.raises(RuntimeError):\n",
    "    x, f, num_it = compute_root(my_f, x0=0, x1=2, tol=1.0e-6, max_it=20)"
   ]
  },
  {
   "cell_type": "code",
   "execution_count": 8,
   "metadata": {},
   "outputs": [],
   "source": [
    "# Case: x0 >= x1\n",
    "with pytest.raises(ValueError):\n",
    "    compute_root(my_f, x0=2, x1=0, tol=1.0e-6, max_it=30)\n",
    "\n",
    "# Case: tolerance <= 0\n",
    "with pytest.raises(ValueError):\n",
    "    compute_root(my_f, x0=0, x1=2, tol=0, max_it=30)\n",
    "\n",
    "# Case: max_it <= 0\n",
    "with pytest.raises(ValueError):\n",
    "    compute_root(my_f, x0=0, x1=2, tol=1.0e-6, max_it=0)\n",
    "\n",
    "# Case: f(x0) and f(x1) same sign\n",
    "# both f(2) and f(3) are -ve\n",
    "with pytest.raises(ValueError):\n",
    "    compute_root(my_f, x0=2, x1=3, tol=1.0e-6, max_it=30)\n",
    "\n",
    "# Case: max iterations exceeded (too strict tolerance + small max_it)\n",
    "with pytest.raises(RuntimeError):\n",
    "    compute_root(my_f, x0=0, x1=2, tol=1.0e-12, max_it=5)\n"
   ]
  }
 ],
 "metadata": {
  "celltoolbar": "Create Assignment",
  "kernelspec": {
   "display_name": "Python 3 (ipykernel)",
   "language": "python",
   "name": "python3"
  },
  "language_info": {
   "codemirror_mode": {
    "name": "ipython",
    "version": 3
   },
   "file_extension": ".py",
   "mimetype": "text/x-python",
   "name": "python",
   "nbconvert_exporter": "python",
   "pygments_lexer": "ipython3",
   "version": "3.14.0"
  },
  "otter": {
   "OK_FORMAT": true,
   "assignment_name": "Exercises 9",
   "tests": {}
  }
 },
 "nbformat": 4,
 "nbformat_minor": 4
}
