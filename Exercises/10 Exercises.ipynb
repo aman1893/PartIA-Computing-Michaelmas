{
 "cells": [
  {
   "cell_type": "markdown",
   "metadata": {
    "deletable": false,
    "editable": false
   },
   "source": [
    "## Exercise 10.1 (search)\n",
    "\n",
    "We want to find the largest and smallest values in a long list of numbers. Implement\n",
    "two algorithms, based on:\n",
    "\n",
    "1. Iterating over the list entries; and \n",
    "1. First applying a built-in sort operation to the list.\n",
    "\n",
    "Encapsulate each algorithm in a function. To create lists of numbers for testing use, for example:\n",
    "```python\n",
    "x = np.random.rand(1000)\n",
    "```"
   ]
  },
  {
   "cell_type": "markdown",
   "metadata": {
    "deletable": false,
    "editable": false
   },
   "source": [
    "### Solution\n",
    "\n",
    "We first create the list of random numbers"
   ]
  },
  {
   "cell_type": "code",
   "execution_count": 1,
   "metadata": {
    "deletable": false,
    "editable": false
   },
   "outputs": [],
   "source": [
    "import numpy as np\n",
    "x = np.random.rand(1000)"
   ]
  },
  {
   "cell_type": "markdown",
   "metadata": {
    "deletable": false,
    "editable": false
   },
   "source": [
    "#### Approach 1"
   ]
  },
  {
   "cell_type": "code",
   "execution_count": 2,
   "metadata": {
    "nbgrader": {
     "grade": false,
     "grade_id": "cell-78de0384c89f8cd3",
     "locked": false,
     "schema_version": 3,
     "solution": true
    },
    "tags": [
     "otter_answer_cell"
    ]
   },
   "outputs": [
    {
     "name": "stdout",
     "output_type": "stream",
     "text": [
      "(np.float64(0.004384363196785257), np.float64(0.9979673467963138))\n"
     ]
    }
   ],
   "source": [
    "def min_max1(x):\n",
    "    x_min = x[0]\n",
    "    x_max = x[0]\n",
    "    for val in x:\n",
    "        if val < x_min:\n",
    "            x_min = val\n",
    "        if val > x_max:\n",
    "            x_max = val\n",
    "    return x_min, x_max\n",
    "\n",
    "print(min_max1(x))"
   ]
  },
  {
   "cell_type": "markdown",
   "metadata": {
    "deletable": false,
    "editable": false
   },
   "source": [
    "#### Approach 2"
   ]
  },
  {
   "cell_type": "code",
   "execution_count": 3,
   "metadata": {
    "nbgrader": {
     "grade": false,
     "grade_id": "cell-dfd666bf7428bcdc",
     "locked": false,
     "schema_version": 3,
     "solution": true
    },
    "tags": [
     "otter_answer_cell"
    ]
   },
   "outputs": [
    {
     "name": "stdout",
     "output_type": "stream",
     "text": [
      "(np.float64(0.004384363196785257), np.float64(0.9979673467963138))\n"
     ]
    }
   ],
   "source": [
    "def min_max2(x):\n",
    "    xs = np.sort(x)\n",
    "    return xs[0], xs[-1]\n",
    "\n",
    "print(min_max2(x))\n"
   ]
  },
  {
   "cell_type": "code",
   "execution_count": 4,
   "metadata": {
    "deletable": false,
    "editable": false,
    "nbgrader": {
     "grade": true,
     "grade_id": "cell-1fa6054c191acd87",
     "locked": true,
     "points": 0,
     "schema_version": 3,
     "solution": false
    }
   },
   "outputs": [],
   "source": [
    "## test ##\n",
    "assert min_max1(x) == min_max2(x)"
   ]
  },
  {
   "cell_type": "markdown",
   "metadata": {
    "deletable": false,
    "editable": false
   },
   "source": [
    "In practice, we would use the the NumPy function:"
   ]
  },
  {
   "cell_type": "code",
   "execution_count": 10,
   "metadata": {
    "deletable": false,
    "editable": false
   },
   "outputs": [
    {
     "name": "stdout",
     "output_type": "stream",
     "text": [
      "0.00083873715915872 0.9992079307400417\n"
     ]
    }
   ],
   "source": [
    "print(np.min(x), np.max(x))"
   ]
  },
  {
   "cell_type": "markdown",
   "metadata": {
    "deletable": false,
    "editable": false
   },
   "source": [
    "## Exercise 10.2 (Newton's method for root finding)\n",
    "\n",
    "### Background\n",
    "\n",
    "Newton's method can be used to find a root $x$ of a function $f(x)$ such that\n",
    "$$\n",
    "f(x) = 0\n",
    "$$\n",
    "A Taylor series expansion of $f$ about $x_{i}$ reads:\n",
    "$$\n",
    "f(x_{i+1}) = f(x_{i}) + \\left. f^{\\prime} \\right|_{x_{i}} (x_{i+1} - x_{i}) +  O((x_{i+1} - x_{i})^{2})\n",
    "$$\n",
    "If we neglect the higher-order terms and set $f(x_{i+1})$ to zero, we have Newton's method:\n",
    "\\begin{align}\n",
    "x_{i + 1} &= - \\frac{f(x_{i})}{f^{\\prime}(x_{i})} + x_{i}\n",
    "\\\\\n",
    "x_{i} &\\leftarrow x_{i+1}\n",
    "\\end{align}\n",
    "In Newton's method, the above is applied iteratively until $\\left|f(x_{i + 1})\\right|$ is below a tolerance value."
   ]
  },
  {
   "cell_type": "markdown",
   "metadata": {
    "deletable": false,
    "editable": false
   },
   "source": [
    "### Task\n",
    "\n",
    "Develop an implementation of Newton's method, with the following three functions in your implementation:\n",
    "```python\n",
    "def newton(f, df, x0, tol, max_it):\n",
    "    # Implement here\n",
    "\n",
    "    return x1  # return root\n",
    "```\n",
    "where `x0` is the initial guess, `tol` is the stopping tolerance, `max_it` is the maximum number \n",
    "of iterations, and \n",
    "```python\n",
    "def f(x):\n",
    "    # Evaluate function at x and return value\n",
    "\n",
    "\n",
    "def df(x):\n",
    "    # Evaluate df/dx at x and return value\n",
    "\n",
    "```\n",
    "\n",
    "Your implementation should raise an exception if the maximum number of iterations (`max_it`)\n",
    "is exceeded.\n",
    "\n",
    "Use your program to find the roots of:\n",
    "\n",
    "$$\n",
    "f(x) = \\tan(x) - 2x\n",
    "$$\n",
    "\n",
    "between $-\\pi/2$ and $\\pi/2$. Plot $f(x)$ and $f^{\\prime}(x)$ on the same graph, \n",
    "**and show all the roots** computed by Newton's method.\n",
    "\n",
    "Newton's method can be sensitive to the starting value. Make sure you find the root around $x = 1.2$. \n",
    "What happens if you start at $x = 0.9$? It may help to add a print statement in the iteration loop, \n",
    "showing $x$ and $f$ at each iteration.\n",
    "\n",
    "\n",
    "### Extension (optional)\n",
    "\n",
    "For a complicated function we might not know how to compute the derivative, or it may be very complicated\n",
    "to evaluate. Write a function that computes the *numerical derivative* of $f(x)$ by evaluating \n",
    "$(f(x + dx) - f(x - dx)) / (2dx)$, where $dx$ is small. How should you choose $dx$?"
   ]
  },
  {
   "cell_type": "markdown",
   "metadata": {
    "deletable": false,
    "editable": false
   },
   "source": [
    "### Solution\n",
    "\n",
    "We first implement a Newton solver function:"
   ]
  },
  {
   "cell_type": "code",
   "execution_count": 21,
   "metadata": {
    "nbgrader": {
     "grade": false,
     "grade_id": "cell-d67ac5bf99448637",
     "locked": false,
     "schema_version": 3,
     "solution": true
    },
    "tags": [
     "otter_answer_cell"
    ]
   },
   "outputs": [],
   "source": [
    "import numpy as np\n",
    "\n",
    "def newton(f, df, x0, tol=1e-8, max_it=50, verbose = False):\n",
    "    \"\"\"Find root of equation defined by function f(x) where df(x) is\n",
    "    first derivative and x is the initial guess.Optional arguments tol \n",
    "    (tolerance) and max_it (maximum number of iterations)\"\"\"\n",
    "    \n",
    "    x = x0\n",
    "    for i in range(max_it):\n",
    "        fx = f(x)\n",
    "        dfx = df(x)\n",
    "        if dfx == 0:\n",
    "            raise ValueError(\"Derivative zero, method fails.\")\n",
    "        x_new = x - fx/dfx\n",
    "        if verbose:\n",
    "            print(f\"Iteration {i+1}, x = {x_new}, f(x) = {f(x_new)}\")\n",
    "        if abs(f(x_new)) < tol:\n",
    "            return x_new\n",
    "        x = x_new\n",
    "    raise RuntimeError(\"Maximum iterations exceeded\")"
   ]
  },
  {
   "cell_type": "markdown",
   "metadata": {
    "deletable": false,
    "editable": false
   },
   "source": [
    "We now provide implementations of `f` and `df`, and find the roots:"
   ]
  },
  {
   "cell_type": "code",
   "execution_count": 22,
   "metadata": {
    "nbgrader": {
     "grade": false,
     "grade_id": "cell-8b0ea0df543b1534",
     "locked": false,
     "schema_version": 3,
     "solution": true
    },
    "tags": [
     "otter_answer_cell"
    ]
   },
   "outputs": [],
   "source": [
    "def f(x):\n",
    "    return np.tan(x) - 2*x\n",
    "\n",
    "def df(x):\n",
    "    return 1/np.cos(x)**2 - 2"
   ]
  },
  {
   "cell_type": "code",
   "execution_count": 27,
   "metadata": {
    "nbgrader": {
     "grade": false,
     "grade_id": "cell-8b0ea0df5fef43b1534",
     "locked": false,
     "schema_version": 3,
     "solution": true
    },
    "tags": [
     "otter_answer_cell"
    ]
   },
   "outputs": [],
   "source": [
    "## tests ##\n",
    "\n",
    "# Find roots near -1.2, 0.1, and 1.2\n",
    "xroots = np.array((newton(f, df, -1.2),\n",
    "                   newton(f, df, 0.1),\n",
    "                   newton(f, df, 1.2)))\n",
    "assert np.isclose(xroots, [-1.16556119e+00, 2.08575213e-10, 1.16556119e+00]).all()"
   ]
  },
  {
   "cell_type": "code",
   "execution_count": 8,
   "metadata": {
    "nbgrader": {
     "grade": false,
     "grade_id": "cell-997c8b60a3053a38",
     "locked": false,
     "schema_version": 3,
     "solution": true
    },
    "tags": [
     "otter_answer_cell"
    ]
   },
   "outputs": [
    {
     "name": "stdout",
     "output_type": "stream",
     "text": [
      "Roots: [np.float64(-1.1655611852072116), np.float64(2.0857521309050608e-10), np.float64(1.1655611852072116)]\n"
     ]
    },
    {
     "data": {
      "image/png": "[encoded data removed]",
      "text/plain": [
       "<Figure size 640x480 with 1 Axes>"
      ]
     },
     "metadata": {},
     "output_type": "display_data"
    }
   ],
   "source": [
    "# We can visualise the result:\n",
    "    \n",
    "%matplotlib inline\n",
    "import matplotlib.pyplot as plt\n",
    "\n",
    "# Plot f and df/dx\n",
    "x = np.linspace(-1.5, 1.5, 100)\n",
    "plt.plot(x, f(x), label='$f(x)$')\n",
    "plt.plot(x, df(x), label=\"$f^{PRIME}(x)$\")\n",
    "\n",
    "# Add location of roots to plot\n",
    "# Find roots near -1.2, 0.1, and 1.2\n",
    "roots = [\n",
    "    newton(f, df, -1.2),\n",
    "    newton(f, df, 0.1),\n",
    "    newton(f, df, 1.2)\n",
    "]\n",
    "print(\"Roots:\", roots)\n",
    "\n",
    "plt.scatter(roots, [0,0,0], color=\"red\", label=\"Roots\")\n",
    "\n",
    "plt.legend()\n",
    "plt.show()"
   ]
  },
  {
   "cell_type": "code",
   "execution_count": 28,
   "metadata": {},
   "outputs": [
    {
     "name": "stdout",
     "output_type": "stream",
     "text": [
      "Iteration 1, x = 1.818100247354237, f(x) = -7.597035324185395\n",
      "Iteration 2, x = 2.3353201132969237, f(x) = -5.713285365321914\n",
      "Iteration 3, x = 67.92318000583461, f(x) = -138.35777585328725\n",
      "Iteration 4, x = 93.99295831088295, f(x) = -188.2464005559906\n",
      "Iteration 5, x = -107.95606300324326, f(x) = 213.72523630465383\n",
      "Iteration 6, x = -164.45996128904397, f(x) = 326.96896981589595\n",
      "Iteration 7, x = -280.975899673535, f(x) = 556.9321542407995\n",
      "Iteration 8, x = -303.99263340629875, f(x) = 608.9017618400151\n",
      "Iteration 9, x = 3500.76674443716, f(x) = -6999.85866501183\n",
      "Iteration 10, x = 7378.729653708574, f(x) = -14758.648221034215\n",
      "Iteration 11, x = 43069.39916928521, f(x) = -86135.11809159383\n",
      "Iteration 12, x = 49935.91882043606, f(x) = -99871.52436492336\n",
      "Iteration 13, x = -60803.80344134833, f(x) = 121601.05998399788\n",
      "Iteration 14, x = -63708.61929081817, f(x) = 127416.97055818529\n",
      "Iteration 15, x = 73569.97463254974, f(x) = -147139.79006955953\n",
      "Iteration 16, x = -77395.77359736562, f(x) = 154792.097420426\n",
      "Iteration 17, x = 144607.41518433497, f(x) = -289214.925312828\n",
      "Iteration 18, x = -147238.3223451599, f(x) = 294473.0502678136\n",
      "Iteration 19, x = -171942.70019302244, f(x) = 343885.20529664657\n",
      "Iteration 20, x = 185548.57786165684, f(x) = -371097.3247506514\n",
      "Iteration 21, x = -196462.90703027468, f(x) = 392925.5385450715\n",
      "Iteration 22, x = 228739.2044262404, f(x) = -457478.56682896253\n",
      "Iteration 23, x = -240448.6821589573, f(x) = 480896.67247389135\n",
      "Iteration 24, x = 681954.6329174011, f(x) = -1363909.5852532208\n",
      "Iteration 25, x = -836923.2125899261, f(x) = 1673846.6403293503\n",
      "Iteration 26, x = 918165.255777413, f(x) = -1836330.2612701172\n",
      "Iteration 27, x = -1040884.6637075734, f(x) = 2081769.727582236\n",
      "Iteration 28, x = 1437807.1540087187, f(x) = -2875613.417725467\n",
      "Iteration 29, x = -12428576.010641363, f(x) = 24857154.658335175\n",
      "Iteration 30, x = -16603410.437434029, f(x) = 33206822.38064866\n",
      "Iteration 31, x = -42804666.10007693, f(x) = 85609329.29575904\n",
      "Iteration 32, x = -54318245.90599538, f(x) = 108636493.47842397\n",
      "Iteration 33, x = -115453031.56077495, f(x) = 230906061.3595782\n",
      "Iteration 34, x = -225170871.2692233, f(x) = 450341739.2655386\n",
      "Iteration 35, x = -271540838.6405499, f(x) = 543081671.8610843\n",
      "Iteration 36, x = -290679223.5792616, f(x) = 581358451.411582\n",
      "Iteration 37, x = -324699654.46933293, f(x) = 649399308.7542489\n",
      "Iteration 38, x = 347563049.2611195, f(x) = -695126100.4547626\n",
      "Iteration 39, x = 601755260.7556822, f(x) = -1203510526.6107965\n",
      "Iteration 40, x = 649887580.8374443, f(x) = -1299775162.0397947\n",
      "Iteration 41, x = -849546818.6295116, f(x) = 1699093636.766159\n",
      "Iteration 42, x = 1394710655.4331872, f(x) = -2789421310.89699\n",
      "Iteration 43, x = -1397327606.9532979, f(x) = 2794655224.218213\n",
      "Iteration 44, x = -1423860122.0131035, f(x) = 2847720241.5090647\n",
      "Iteration 45, x = -1957540231.6467214, f(x) = 3915080461.5317903\n",
      "Iteration 46, x = -3818833612.7519703, f(x) = 7637667227.816523\n",
      "Iteration 47, x = -5575413246.268672, f(x) = 11150826493.057281\n",
      "Iteration 48, x = 9706711435.972477, f(x) = -19413422868.755177\n",
      "Iteration 49, x = 11822687399.381453, f(x) = -23645374779.315952\n",
      "Iteration 50, x = 11885376644.847092, f(x) = -23770753289.46153\n"
     ]
    }
   ],
   "source": [
    "## with 1.2 as the starting guess, it coverges\n",
    "newton(f, df, 1.2)\n",
    "\n",
    "## but with 0.9, it doesn't converge in max iterations which is 50 \n",
    "## and raises a RuntimeError\n",
    "import pytest\n",
    "with pytest.raises(RuntimeError):\n",
    "    newton(f, df, 0.9, verbose = True)"
   ]
  },
  {
   "cell_type": "markdown",
   "metadata": {
    "deletable": false,
    "editable": false
   },
   "source": [
    "For the extension, we can replace the function `df(x)` with a new version"
   ]
  },
  {
   "cell_type": "code",
   "execution_count": null,
   "metadata": {
    "nbgrader": {
     "grade": false,
     "grade_id": "cell-3d320bc0309566f1",
     "locked": false,
     "schema_version": 3,
     "solution": true
    },
    "tags": [
     "otter_answer_cell"
    ]
   },
   "outputs": [],
   "source": [
    "def df(x):\n",
    "    # Try changing dx to 1e-15 or smaller\n",
    "    dx = 1e-9\n",
    "    ..."
   ]
  },
  {
   "cell_type": "code",
   "execution_count": null,
   "metadata": {
    "nbgrader": {
     "grade": true,
     "grade_id": "cell-3d320bc0309566f1wew",
     "locked": true,
     "points": 0,
     "schema_version": 3,
     "solution": false
    },
    "tags": [
     "otter_answer_cell"
    ]
   },
   "outputs": [],
   "source": [
    "## tests ##\n",
    "\n",
    "# Find roots near -1.2, 0.1, and 1.2\n",
    "xroots = np.array((newton(f, df, -1.2),\n",
    "                   newton(f, df, 0.1),\n",
    "                   newton(f, df, 1.2)))\n",
    "assert np.isclose(xroots, [-1.16556119e+00, 2.08575213e-10, 1.16556119e+00]).all()"
   ]
  },
  {
   "cell_type": "code",
   "execution_count": null,
   "metadata": {
    "nbgrader": {
     "grade": false,
     "grade_id": "cell-f6c6dafb16f9b2a8",
     "locked": false,
     "schema_version": 3,
     "solution": true
    },
    "tags": [
     "otter_answer_cell"
    ]
   },
   "outputs": [],
   "source": [
    "# Plot f, f' and roots\n",
    "\n",
    "..."
   ]
  },
  {
   "cell_type": "markdown",
   "metadata": {
    "deletable": false,
    "editable": false
   },
   "source": [
    "In practice, we could use the Newton function `scipy.optimize.newton` from SciPy (https://docs.scipy.org/doc/scipy/reference/generated/scipy.optimize.newton.html) rather than implementing our own function."
   ]
  },
  {
   "cell_type": "markdown",
   "metadata": {
    "deletable": false,
    "editable": false
   },
   "source": [
    "## Exercise 10.3 (optional, low pass image filter)\n",
    "\n",
    "Image files can be loaded as NumPy arrays displayed with Matplotlib. An imported colour image is stored as a \n",
    "three-dimensional NumPy array of floats. The shape of the array is `[0:nx, 0:ny, 0:3]`. \n",
    "where `nx` is the number of pixels in the $x$-direction, `ny` is the number of pixels in the $y$-direction,\n",
    "and the third axis is for the colour component (RGB: red, green and blue) intensity.\n",
    "For a greyscale image, for each pixel we have either an integer (typically in the range [0, 255]) or a float (in the range [0, 1.0]).\n",
    "\n",
    "Below we fetch an image and display it:"
   ]
  },
  {
   "cell_type": "code",
   "execution_count": null,
   "metadata": {
    "deletable": false,
    "editable": false
   },
   "outputs": [],
   "source": [
    "%matplotlib inline\n",
    "import PIL\n",
    "import urllib\n",
    "import matplotlib.pyplot as plt\n",
    "\n",
    "# Import image\n",
    "url = 'https://raw.githubusercontent.com/matplotlib/matplotlib.github.com/main/3.5.3/_images/stinkbug.png'\n",
    "img = np.array(PIL.Image.open(urllib.request.urlopen(url)))\n",
    "\n",
    "# Check type and shape\n",
    "print(type(img))\n",
    "print(f\"Image array shape: {img.shape}\")\n",
    "print(f\"Image pixel type: {img.dtype}\")\n",
    "\n",
    "# Convert pixel data from 8-bit integers [0, 255] to floats in range [0, 1]\n",
    "img = np.float64(img) / 255\n",
    "\n",
    "# Display image\n",
    "plt.imshow(img);"
   ]
  },
  {
   "cell_type": "markdown",
   "metadata": {
    "deletable": false,
    "editable": false
   },
   "source": [
    "The task is to write a *function* that applies a particular low-pass filter algorithm to an image array \n",
    "and  returns the  filtered image. With this particular filter, the value of a pixel in the filtered image \n",
    "is equal to the average value of the four neighbouring pixels in the original image. For the `[i, j, :]` pixel, \n",
    "the neighbours are  `[i, j+1, :]`, `[i, j-1, :]`, `[i+1, j, :]` and  `[i-1, j, :]`. \n",
    "\n",
    "Run the filter algorithm multiple times on the above image to explore the effect of the filter.\n",
    "\n",
    "*Hint*: To create a NumPy array of zeros, `B`,  with the same shape as array `A`, use:\n",
    "```python\n",
    "import numpy as np\n",
    "B = np.zeros_like(A)\n",
    "```"
   ]
  },
  {
   "cell_type": "code",
   "execution_count": null,
   "metadata": {
    "nbgrader": {
     "grade": false,
     "grade_id": "cell-8bc3a81c6142b437",
     "locked": false,
     "schema_version": 3,
     "solution": true
    },
    "tags": [
     "otter_answer_cell"
    ]
   },
   "outputs": [],
   "source": [
    "..."
   ]
  }
 ],
 "metadata": {
  "celltoolbar": "Create Assignment",
  "kernelspec": {
   "display_name": "Python 3 (ipykernel)",
   "language": "python",
   "name": "python3"
  },
  "language_info": {
   "codemirror_mode": {
    "name": "ipython",
    "version": 3
   },
   "file_extension": ".py",
   "mimetype": "text/x-python",
   "name": "python",
   "nbconvert_exporter": "python",
   "pygments_lexer": "ipython3",
   "version": "3.14.0"
  },
  "otter": {
   "OK_FORMAT": true,
   "assignment_name": "Exercises 10",
   "tests": {}
  }
 },
 "nbformat": 4,
 "nbformat_minor": 4
}
